{
 "metadata": {
  "kernelspec": {
   "display_name": "Python 3",
   "language": "python",
   "name": "python3"
  },
  "language_info": {
   "codemirror_mode": {
    "name": "ipython",
    "version": 3
   },
   "file_extension": ".py",
   "mimetype": "text/x-python",
   "name": "python",
   "nbconvert_exporter": "python",
   "pygments_lexer": "ipython3",
   "version": "3.5.1"
  },
  "name": ""
 },
 "nbformat": 3,
 "nbformat_minor": 0,
 "worksheets": [
  {
   "cells": [
    {
     "cell_type": "code",
     "collapsed": false,
     "input": [
      "%matplotlib inline\n",
      "import numpy as np\n",
      "import pandas as pd\n",
      "import matplotlib.pyplot as plt"
     ],
     "language": "python",
     "metadata": {},
     "outputs": []
    },
    {
     "cell_type": "markdown",
     "metadata": {},
     "source": [
      "## Hands on scikit-learn / pandas\n",
      "\n",
      "You mission is to build the best predictive model using these data:\n",
      "\n",
      "https://dl.dropboxusercontent.com/s/vv1lhvppsbyzhwo/adult_train.csv\n",
      "\n",
      "The prediction task is to determine whether a person makes over 50K a year.\n",
      "\n",
      "What is expected:\n",
      "\n",
      "  - Read the data using Pandas\n",
      "  - Understand what type of machine learning problem you are facing? regression? classification? binary? multi-class?\n",
      "  - Identify potential issues such as missing values, quantitative / continous or categorical variables, class imbalance\n",
      "  - Visualize the distributions of the features\n",
      "  - Encode properly the categorical variables\n",
      "  - Propose a predictive model that you will evaluate using ROC-AUC metric\n",
      "  - You will evaluate the quality of the model with cross-validation.\n",
      "\n",
      "```\n",
      "Attribute Information:\n",
      "\n",
      "Listing of attributes: \n",
      "\n",
      "age: continuous. \n",
      "workclass: Private, Self-emp-not-inc, Self-emp-inc, Federal-gov, Local-gov, State-gov, Without-pay, Never-worked. \n",
      "fnlwgt: continuous. \n",
      "education: Bachelors, Some-college, 11th, HS-grad, Prof-school, Assoc-acdm, Assoc-voc, 9th, 7th-8th, 12th, Masters, 1st-4th, 10th, Doctorate, 5th-6th, Preschool. \n",
      "education-num: continuous. \n",
      "marital-status: Married-civ-spouse, Divorced, Never-married, Separated, Widowed, Married-spouse-absent, Married-AF-spouse. \n",
      "occupation: Tech-support, Craft-repair, Other-service, Sales, Exec-managerial, Prof-specialty, Handlers-cleaners, Machine-op-inspct, Adm-clerical, Farming-fishing, Transport-moving, Priv-house-serv, Protective-serv, Armed-Forces. \n",
      "relationship: Wife, Own-child, Husband, Not-in-family, Other-relative, Unmarried. \n",
      "race: White, Asian-Pac-Islander, Amer-Indian-Eskimo, Other, Black. \n",
      "sex: Female, Male. \n",
      "capital-gain: continuous. \n",
      "capital-loss: continuous. \n",
      "hours-per-week: continuous. \n",
      "native-country: United-States, Cambodia, England, Puerto-Rico, Canada, Germany, Outlying-US(Guam-USVI-etc), India, Japan, Greece, South, China, Cuba, Iran, Honduras, Philippines, Italy, Poland, Jamaica, Vietnam, Mexico, Portugal, Ireland, France, Dominican-Republic, Laos, Ecuador, Taiwan, Haiti, Columbia, Hungary, Guatemala, Nicaragua, Scotland, Thailand, Yugoslavia, El-Salvador, Trinadad&Tobago, Peru, Hong, Holand-Netherlands.\n",
      "```\n",
      "\n",
      "The floor is yours !"
     ]
    },
    {
     "cell_type": "code",
     "collapsed": true,
     "input": [
      "!curl -s https://dl.dropboxusercontent.com/u/2140486/data/adult_train.csv > adult_train.csv"
     ],
     "language": "python",
     "metadata": {},
     "outputs": []
    },
    {
     "cell_type": "code",
     "collapsed": true,
     "input": [
      "data = pd.read_csv('adult_train.csv', na_values=\"?\")"
     ],
     "language": "python",
     "metadata": {},
     "outputs": []
    },
    {
     "cell_type": "code",
     "collapsed": false,
     "input": [
      "data.head(5)"
     ],
     "language": "python",
     "metadata": {},
     "outputs": []
    },
    {
     "cell_type": "code",
     "collapsed": false,
     "input": [
      "data.shape"
     ],
     "language": "python",
     "metadata": {},
     "outputs": []
    },
    {
     "cell_type": "code",
     "collapsed": false,
     "input": [
      "%load solutions/visualise_adult.py"
     ],
     "language": "python",
     "metadata": {},
     "outputs": []
    },
    {
     "cell_type": "code",
     "collapsed": false,
     "input": [
      "data[[\"education\", \"education-num\"]].head(10)"
     ],
     "language": "python",
     "metadata": {},
     "outputs": []
    },
    {
     "cell_type": "code",
     "collapsed": false,
     "input": [
      "data.head(5)"
     ],
     "language": "python",
     "metadata": {},
     "outputs": []
    },
    {
     "cell_type": "code",
     "collapsed": false,
     "input": [
      "target = pd.get_dummies(data['income'], prefix='income')\n",
      "target = target.drop('income_ <=50K', 1).values.squeeze()"
     ],
     "language": "python",
     "metadata": {},
     "outputs": []
    },
    {
     "cell_type": "code",
     "collapsed": false,
     "input": [
      "numerical_features = pd.concat([data.get(['education-num', 'age']),\n",
      "                                pd.get_dummies(data.sex, prefix='sex'),\n",
      "                                pd.get_dummies(data.race, prefix='race')],\n",
      "                              axis=1)\n",
      "\n",
      "numerical_features.head(5)"
     ],
     "language": "python",
     "metadata": {},
     "outputs": []
    },
    {
     "cell_type": "code",
     "collapsed": false,
     "input": [
      "numerical_features = numerical_features.drop('sex_ Male', 1)"
     ],
     "language": "python",
     "metadata": {},
     "outputs": []
    },
    {
     "cell_type": "code",
     "collapsed": false,
     "input": [
      "%%time\n",
      "\n",
      "from sklearn.linear_model import LogisticRegression\n",
      "from sklearn.cross_validation import cross_val_score\n",
      "from sklearn.preprocessing import StandardScaler\n",
      "from sklearn.pipeline import make_pipeline\n",
      "\n",
      "clf = make_pipeline(StandardScaler(), LogisticRegression(C=1.))\n",
      "scores = cross_val_score(clf, numerical_features, target, cv=5, scoring='accuracy')\n",
      "print(\"Logistic Regression CV scores:\")\n",
      "print(\"min: {:.3f}, mean: {:.3f}, max: {:.3f}\".format(\n",
      "    scores.min(), scores.mean(), scores.max()))"
     ],
     "language": "python",
     "metadata": {},
     "outputs": []
    },
    {
     "cell_type": "code",
     "collapsed": false,
     "input": [
      "logreg_new = LogisticRegression(C=1).fit(numerical_features, target)\n",
      "\n",
      "feature_names = numerical_features.columns.values\n",
      "x = np.arange(len(feature_names))\n",
      "plt.bar(x, logreg_new.coef_.ravel())\n",
      "_ = plt.xticks(x + 0.5, feature_names, rotation=30)\n"
     ],
     "language": "python",
     "metadata": {},
     "outputs": []
    },
    {
     "cell_type": "code",
     "collapsed": true,
     "input": [],
     "language": "python",
     "metadata": {},
     "outputs": []
    }
   ],
   "metadata": {}
  }
 ]
}