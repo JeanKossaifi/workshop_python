{
 "metadata": {
  "kernelspec": {
   "display_name": "Python 3",
   "language": "python",
   "name": "python3"
  },
  "language_info": {
   "codemirror_mode": {
    "name": "ipython",
    "version": 3
   },
   "file_extension": ".py",
   "mimetype": "text/x-python",
   "name": "python",
   "nbconvert_exporter": "python",
   "pygments_lexer": "ipython3",
   "version": "3.5.1"
  },
  "name": ""
 },
 "nbformat": 3,
 "nbformat_minor": 0,
 "worksheets": [
  {
   "cells": [
    {
     "cell_type": "markdown",
     "metadata": {},
     "source": [
      "Inspired from [Gael Varoquaux's tutorial](https://gaelvaroquaux.github.io/scikit-learn-tutorial/putting_together.html#open-problem-stock-market-structure)."
     ]
    },
    {
     "cell_type": "code",
     "collapsed": false,
     "input": [
      "import datetime\n",
      "from pandas.io.data import DataReader\n",
      "import numpy as np\n",
      "from pathlib import Path\n",
      "\n",
      "data_path = Path('./yahoo_data.npz')\n",
      "\n",
      "\n",
      "if not data_path.exists():\n",
      "    print('Downloading data.')\n",
      "    # Choose a time period reasonnably calm: before the 2008 crash)\n",
      "    # and after Google's start\n",
      "    d1 = datetime.datetime(2005, 8, 19)\n",
      "    d2 = datetime.datetime(2008, 1, 1)\n",
      "\n",
      "    \n",
      "    \n",
      "    symbol_dict = {'INTC': 'Intel',\n",
      "               'MSFT': 'Microsoft',\n",
      "               'IBM': 'IBM',\n",
      "               'BHP': 'BHP',\n",
      "               'TM': 'Toyota',\n",
      "               'AAPL': 'Apple',\n",
      "               'AMZN': 'Amazon',\n",
      "               'BA': 'Boeing',\n",
      "               'QCOM': 'Qualcomm',\n",
      "               'KO': 'Coca-Cola',\n",
      "               'GOOG': 'Google',\n",
      "               'SNE': 'Sony',\n",
      "               'PTR': 'PetroChina'}\n",
      "\n",
      "    symbols, names = np.array(list(symbol_dict.items())).T\n",
      "\n",
      "    quotes = [DataReader(symbol, 'yahoo', d1, d2) for symbol in symbols]\n",
      "\n",
      "    #volumes = np.array([q.volume for q in quotes]).astype(np.float)\n",
      "    Open    = np.array([q.Open.values  for q in quotes]).astype(np.float)\n",
      "    Close   = np.array([q.Close.values for q in quotes]).astype(np.float)\n",
      "    variation = Close - Open\n",
      "    X = variation[names != 'Google'].T\n",
      "    y = variation[names == 'Google'].squeeze()\n",
      "    n = names[names != 'Google']\n",
      "    \n",
      "    data_dict = {'X':X, 'y':y, 'names':names}\n",
      "    np.savez(data_path.as_posix(), **data_dict)\n",
      "\n",
      "\n",
      "else:\n",
      "    print('Loading data from local disk.')\n",
      "    data_dict = np.load(data_path.as_posix())\n",
      "    X = data_dict['X']\n",
      "    y = data_dict['y']\n",
      "    n = data_dict['names']\n",
      "    "
     ],
     "language": "python",
     "metadata": {},
     "outputs": []
    }
   ],
   "metadata": {}
  }
 ]
}